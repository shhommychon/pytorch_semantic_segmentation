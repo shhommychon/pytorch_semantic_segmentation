{
  "nbformat": 4,
  "nbformat_minor": 0,
  "metadata": {
    "colab": {
      "name": "ngrok_test_env.ipynb",
      "private_outputs": true,
      "provenance": [],
      "collapsed_sections": []
    },
    "kernelspec": {
      "name": "python3",
      "display_name": "Python 3"
    },
    "language_info": {
      "name": "python"
    },
    "accelerator": "GPU"
  },
  "cells": [
    {
      "cell_type": "markdown",
      "source": [
        "[![Open In Colab](https://colab.research.google.com/assets/colab-badge.svg)](https://colab.research.google.com/github/shhommychon/pytorch-practice/blob/master/_jupyternotebooks/ngrok_test_env.ipynb)"
      ],
      "metadata": {
        "id": "2w3tE03CJs5i"
      }
    },
    {
      "cell_type": "markdown",
      "source": [
        "# [ngrok](https://ngrok.com/) 세팅"
      ],
      "metadata": {
        "id": "lgY22ccAxI6K"
      }
    },
    {
      "cell_type": "code",
      "execution_count": null,
      "metadata": {
        "id": "sCSz8jQhxGDY"
      },
      "outputs": [],
      "source": [
        "NGROK_TOKEN = \"hello_hommy\"\n",
        "PASSWORD = \"hello_hommy\""
      ]
    },
    {
      "cell_type": "code",
      "source": [
        "# from google.colab import drive\n",
        "# drive.mount('/content/drive/')"
      ],
      "metadata": {
        "id": "nh31kjRhxW7V"
      },
      "execution_count": null,
      "outputs": []
    },
    {
      "cell_type": "code",
      "source": [
        "# Install colab_ssh on google colab\n",
        "!pip install colab_ssh --upgrade\n",
        "\n",
        "from colab_ssh import launch_ssh\n",
        "launch_ssh(NGROK_TOKEN, PASSWORD)"
      ],
      "metadata": {
        "id": "4t0LAP36xjle"
      },
      "execution_count": null,
      "outputs": []
    },
    {
      "cell_type": "markdown",
      "source": [
        "# 테스트 코드"
      ],
      "metadata": {
        "id": "NR2XvCIQ1LL7"
      }
    },
    {
      "cell_type": "markdown",
      "source": [
        "## 환경 설정"
      ],
      "metadata": {
        "id": "apuyhLy79ZW_"
      }
    },
    {
      "cell_type": "code",
      "source": [
        "!git clone https://github.com/shhommychon/pytorch-imgrecog.git"
      ],
      "metadata": {
        "id": "YwuV2VaA1QLa"
      },
      "execution_count": null,
      "outputs": []
    },
    {
      "cell_type": "code",
      "source": [
        "import sys\n",
        "sys.path.append(\"/content/pytorch-imgrecog\")\n",
        "import image_recognition as myir"
      ],
      "metadata": {
        "id": "ngYTN_0kIzxJ"
      },
      "execution_count": null,
      "outputs": []
    },
    {
      "cell_type": "code",
      "source": [
        "import torch\n",
        "import torch.nn as nn\n",
        "import torch.optim as optim\n",
        "import torch.nn.functional as F\n",
        "\n",
        "print (f\"PyTorch version: {torch.__version__}\")"
      ],
      "metadata": {
        "id": "3SWzVuF5gBJw"
      },
      "execution_count": null,
      "outputs": []
    },
    {
      "cell_type": "code",
      "source": [
        "print(f\"cuda available? : {torch.cuda.is_available()}\")\n",
        "_device_count = torch.cuda.device_count()\n",
        "print(f\"cuda device count? : {_device_count}\")\n",
        "print()\n",
        "\n",
        "device = torch.device(f\"cuda:{_device_count-1}\" if torch.cuda.is_available() else \"cpu\")\n",
        "print (f\"device: {device}\")"
      ],
      "metadata": {
        "id": "KjQ0nKHK8jag"
      },
      "execution_count": null,
      "outputs": []
    },
    {
      "cell_type": "markdown",
      "source": [
        "## 샘플 데이터 (ImageNet)"
      ],
      "metadata": {
        "id": "8Zzc_r7N9ctS"
      }
    },
    {
      "cell_type": "markdown",
      "source": [
        "### dataset"
      ],
      "metadata": {
        "id": "pe-3WQmnBwxB"
      }
    },
    {
      "cell_type": "code",
      "source": [
        "from torchvision import datasets, transforms"
      ],
      "metadata": {
        "id": "pAFRivSA9zP1"
      },
      "execution_count": null,
      "outputs": []
    },
    {
      "cell_type": "code",
      "source": [
        "fashion_train = datasets.FashionMNIST(\n",
        "    root=\"/content/data/\", train=True, download=True, \n",
        "    transform=transforms.Compose([\n",
        "        transforms.ToTensor()\n",
        "    ])\n",
        ")"
      ],
      "metadata": {
        "id": "JQ-DwcFX-MjU"
      },
      "execution_count": null,
      "outputs": []
    },
    {
      "cell_type": "code",
      "source": [
        "fashion_train"
      ],
      "metadata": {
        "id": "zUhzwh3_FZhf"
      },
      "execution_count": null,
      "outputs": []
    },
    {
      "cell_type": "code",
      "source": [
        "fashion_train, fashion_val = torch.utils.data.random_split(fashion_train, [50000, 10000])"
      ],
      "metadata": {
        "id": "hfo5SuhZFHQu"
      },
      "execution_count": null,
      "outputs": []
    },
    {
      "cell_type": "code",
      "source": [
        "fashion_train"
      ],
      "metadata": {
        "id": "3_ZEoLnABOm0"
      },
      "execution_count": null,
      "outputs": []
    },
    {
      "cell_type": "code",
      "source": [
        "fashion_val"
      ],
      "metadata": {
        "id": "uIfk4MnXFNpR"
      },
      "execution_count": null,
      "outputs": []
    },
    {
      "cell_type": "code",
      "source": [
        "fashion_test = datasets.FashionMNIST(\n",
        "    root=\"/content/data/\", train=False, download=True, \n",
        "    transform=transforms.Compose([\n",
        "        transforms.ToTensor()\n",
        "    ])\n",
        ")"
      ],
      "metadata": {
        "id": "vDxB6VSfBJua"
      },
      "execution_count": null,
      "outputs": []
    },
    {
      "cell_type": "code",
      "source": [
        "fashion_test"
      ],
      "metadata": {
        "id": "9yY74BwJBSAU"
      },
      "execution_count": null,
      "outputs": []
    },
    {
      "cell_type": "code",
      "source": [
        "fashion_test.data.shape"
      ],
      "metadata": {
        "id": "mwj-B2_gQn4b"
      },
      "execution_count": null,
      "outputs": []
    },
    {
      "cell_type": "markdown",
      "source": [
        "### data iterator"
      ],
      "metadata": {
        "id": "mgGLhuzCBgmM"
      }
    },
    {
      "cell_type": "code",
      "source": [
        "BATCH_SIZE = 64\n",
        "train_iter = torch.utils.data.DataLoader(fashion_train, batch_size=BATCH_SIZE, shuffle=True)\n",
        "val_iter = torch.utils.data.DataLoader(fashion_val, batch_size=BATCH_SIZE, shuffle=True)\n",
        "test_iter = torch.utils.data.DataLoader(fashion_test, batch_size=BATCH_SIZE, shuffle=False)"
      ],
      "metadata": {
        "id": "NXpVcZ0aBkfa"
      },
      "execution_count": null,
      "outputs": []
    },
    {
      "cell_type": "markdown",
      "source": [
        "## 모델"
      ],
      "metadata": {
        "id": "Sj_c77LjB8OF"
      }
    },
    {
      "cell_type": "code",
      "source": [
        "learning_rate = 1e-3"
      ],
      "metadata": {
        "id": "f_wYuy7TCa54"
      },
      "execution_count": null,
      "outputs": []
    },
    {
      "cell_type": "markdown",
      "source": [
        "### torch official implementation"
      ],
      "metadata": {
        "id": "msAWCxlJB-fx"
      }
    },
    {
      "cell_type": "code",
      "source": [
        "# torch_model\n",
        "# T = pass\n",
        "# T_loss = nn.CrossEntropyLoss()\n",
        "# T_optim = optim.Adam(T.parameters(),lr=learning_rate)"
      ],
      "metadata": {
        "id": "4EKBIC0RCGY6"
      },
      "execution_count": null,
      "outputs": []
    },
    {
      "cell_type": "code",
      "source": [
        "# print(T)"
      ],
      "metadata": {
        "id": "UrdBBauRC9H_"
      },
      "execution_count": null,
      "outputs": []
    },
    {
      "cell_type": "markdown",
      "source": [
        "### my implementation"
      ],
      "metadata": {
        "id": "7jdJZQoACDEa"
      }
    },
    {
      "cell_type": "code",
      "source": [
        "# my_model\n",
        "# M = pass\n",
        "# M_loss = nn.CrossEntropyLoss()\n",
        "# M_optim = optim.Adam(M.parameters(),lr=learning_rate)"
      ],
      "metadata": {
        "id": "5yY7fgdZCG3p"
      },
      "execution_count": null,
      "outputs": []
    },
    {
      "cell_type": "code",
      "source": [
        "# print(M)"
      ],
      "metadata": {
        "id": "Vty34ejPDmfC"
      },
      "execution_count": null,
      "outputs": []
    },
    {
      "cell_type": "markdown",
      "source": [
        "## 학습"
      ],
      "metadata": {
        "id": "siRlFjloEXBd"
      }
    },
    {
      "cell_type": "code",
      "source": [
        "from tqdm import tqdm\n",
        "\n",
        "def func_eval(model, data_iter, device):\n",
        "    with torch.no_grad():\n",
        "        n_total, n_correct = 0, 0\n",
        "\n",
        "        model.eval()\n",
        "        for batch_in, batch_out in tqdm(data_iter):\n",
        "            y_true = batch_out.to(device)\n",
        "            model_pred = model(batch_in.view(-1, 1, 28, 28).to(device))\n",
        "            _, y_pred = torch.max(model_pred.data,1)\n",
        "\n",
        "            n_correct += (y_pred==y_true).sum().item()\n",
        "            n_total += batch_in.size(0)\n",
        "\n",
        "        eval_accr = n_correct / n_total\n",
        "\n",
        "        model.train()\n",
        "\n",
        "    return eval_accr\n",
        "\n",
        "EPOCHS = 10"
      ],
      "metadata": {
        "id": "G7_8zSEGFyRr"
      },
      "execution_count": null,
      "outputs": []
    },
    {
      "cell_type": "markdown",
      "source": [
        "### torch official implementation"
      ],
      "metadata": {
        "id": "-5XpWAqzEauf"
      }
    },
    {
      "cell_type": "code",
      "source": [
        "print (\"start training...\")\n",
        "T.init_param()\n",
        "T.train()\n",
        "\n",
        "T_dict = list()\n",
        "# T_best_val_acc = 0.0\n",
        "\n",
        "for e_idx in range(EPOCHS):\n",
        "    e_idx += 1\n",
        "    print(f\"epoch #{e_idx:0>2}\")\n",
        "\n",
        "    print(f\"\\t{'training': >16}... \", end='')\n",
        "    loss_val_sum = 0.0\n",
        "    for batch_in, batch_out in tqdm(train_iter):\n",
        "        # forward\n",
        "        y_pred = T.forward(batch_in.view(-1, 1, 28, 28).to(device))\n",
        "        loss_out = T_loss(y_pred, batch_out.to_device)\n",
        "\n",
        "        # update\n",
        "        T_optim.zero_grad()\n",
        "        loss_out.backward() # Backpropagate\n",
        "        T_optim.step()\n",
        "        loss_val_sum += loss_out\n",
        "    loss_val_avg = loss_val_sum/len(train_iter)\n",
        "\n",
        "    print(f\"\\t{'evaluating train': >16}... \", end='')\n",
        "    train_accr = func_eval(T, train_iter, device)\n",
        "    print(f\"\\t{'evaluating val': >16}... \", end='')\n",
        "    val_accr = func_eval(T, val_iter, device)\n",
        "\n",
        "    print(f\"epoch #{e_idx:0>2}: \"\n",
        "        + f\"loss = [{loss_val_avg:.4f}] / \"\n",
        "        + f\"train_accr = [{train_accr:.4f}] / \"\n",
        "        + f\"val_accr = [{val_accr:.4f}]\\n\"\n",
        "    )\n",
        "    T_dict.append({\n",
        "        \"loss\": loss_val_avg,\n",
        "        \"train_accr\": train_accr,\n",
        "        \"val_accr\": val_accr\n",
        "    })\n",
        "    \n",
        "    # if T_best_val_acc < val_accr:\n",
        "    #     T_best_val_acc = val_accr\n",
        "    #     torch.save(T, f\"best-model-torch.pt\") \n",
        "\n",
        "del e_idx, loss_val_avg, train_accr, val_accr\n",
        "print(\"finished training!\")"
      ],
      "metadata": {
        "id": "Sd24E_TAEaM8"
      },
      "execution_count": null,
      "outputs": []
    },
    {
      "cell_type": "markdown",
      "source": [
        "### my implementation"
      ],
      "metadata": {
        "id": "1Yx37mW_EeFJ"
      }
    },
    {
      "cell_type": "code",
      "source": [
        "print (\"start training...\")\n",
        "M.init_param()\n",
        "M.train()\n",
        "\n",
        "M_dict = list()\n",
        "# M_best_val_acc = 0.0\n",
        "\n",
        "for e_idx in range(EPOCHS):\n",
        "    e_idx += 1\n",
        "    print(f\"epoch #{e_idx:0>2}\")\n",
        "\n",
        "    print(f\"\\t{'training': >16}... \", end='')\n",
        "    loss_val_sum = 0.0\n",
        "    for batch_in, batch_out in tqdm(train_iter):\n",
        "        # forward\n",
        "        y_pred = M.forward(batch_in.view(-1, 1, 28, 28).to(device))\n",
        "        loss_out = M_loss(y_pred, batch_out.to_device)\n",
        "\n",
        "        # update\n",
        "        M_optim.zero_grad()\n",
        "        loss_out.backward() # Backpropagate\n",
        "        M_optim.step()\n",
        "        loss_val_sum += loss_out\n",
        "    loss_val_avg = loss_val_sum/len(train_iter)\n",
        "\n",
        "    print(f\"\\t{'evaluating train': >16}... \", end='')\n",
        "    train_accr = func_eval(M, train_iter, device)\n",
        "    print(f\"\\t{'evaluating val': >16}... \", end='')\n",
        "    val_accr = func_eval(M, val_iter, device)\n",
        "\n",
        "    print(f\"epoch #{e_idx:0>2}: \"\n",
        "        + f\"loss = [{loss_val_avg:.4f}] / \"\n",
        "        + f\"train_accr = [{train_accr:.4f}] / \"\n",
        "        + f\"val_accr = [{val_accr:.4f}]\\n\"\n",
        "    )\n",
        "    M_dict.append({\n",
        "        \"epoch\": e_idx,\n",
        "        \"loss\": loss_val_avg,\n",
        "        \"train_accr\": train_accr,\n",
        "        \"val_accr\": val_accr\n",
        "    })\n",
        "    \n",
        "    # if M_best_val_acc < val_accr:\n",
        "    #     M_best_val_acc = val_accr\n",
        "    #     torch.save(M, f\"best-model-my.pt\") \n",
        "\n",
        "del e_idx, loss_val_avg, train_accr, val_accr\n",
        "print(\"finished training!\")"
      ],
      "metadata": {
        "id": "8z8MLAIgEhN_"
      },
      "execution_count": null,
      "outputs": []
    },
    {
      "cell_type": "markdown",
      "source": [
        "## 평가"
      ],
      "metadata": {
        "id": "RnlJbm5DPe0_"
      }
    },
    {
      "cell_type": "code",
      "source": [
        "print(\"evaluating test... \", end='')\n",
        "T_test_accr = func_eval(T, test_iter, device)"
      ],
      "metadata": {
        "id": "74SX67oJEhHR"
      },
      "execution_count": null,
      "outputs": []
    },
    {
      "cell_type": "code",
      "source": [
        "print(\"evaluating test... \", end='')\n",
        "M_test_accr = func_eval(M, test_iter, device)"
      ],
      "metadata": {
        "id": "oH7DzBVgRaHs"
      },
      "execution_count": null,
      "outputs": []
    },
    {
      "cell_type": "code",
      "source": [
        "T_test_accr, M_test_accr"
      ],
      "metadata": {
        "id": "-N_buXzlRgsG"
      },
      "execution_count": null,
      "outputs": []
    },
    {
      "cell_type": "code",
      "source": [
        "import matplotlib.pyplot as plt\n",
        "import pandas as pd\n",
        "T_df = pd.DataFrame(T_dict)\n",
        "M_df = pd.DataFrame(M_dict)\n",
        "\n",
        "fig = plt.figure(figsize=(12, 12))\n",
        "\n",
        "ax1 = fig.add_subplot(221)\n",
        "ax1.plot(T_df[\"epoch\"], T_df[\"loss\"], \"c-\")\n",
        "ax1.set_ylabel(\"loss\")\n",
        "ax1.set_xlabel(\"epoch\")\n",
        "ax1.set_title(\"torch implementation loss\")\n",
        "\n",
        "ax2 = fig.add_subplot(222)\n",
        "ax2.plot(M_df[\"epoch\"], M_df[\"loss\"], \"c-\")\n",
        "ax2.set_ylabel(\"loss\")\n",
        "ax2.set_xlabel(\"epoch\")\n",
        "ax2.set_title(\"my implementation loss\")\n",
        "\n",
        "ax3 = fig.add_subplot(223)\n",
        "ax3.plot(T_df[\"epoch\"], T_df[\"train_accr\"], \"g:\", label=\"train\")\n",
        "ax3.plot(T_df[\"epoch\"], T_df[\"val_accr\"], \"y--\", label=\"val\")\n",
        "ax3.set_ylabel(\"accuracy\")\n",
        "ax3.set_xlabel(\"epoch\")\n",
        "ax3.set_title(\"torch implementation accuracy\")\n",
        "ax3.legend()\n",
        "\n",
        "ax4 = fig.add_subplot(224)\n",
        "ax4.plot(M_df[\"epoch\"], M_df[\"train_accr\"], \"g:\", label=\"train\")\n",
        "ax4.plot(M_df[\"epoch\"], M_df[\"val_accr\"], \"y--\", label=\"val\")\n",
        "ax4.set_ylabel(\"accuracy\")\n",
        "ax4.set_xlabel(\"epoch\")\n",
        "ax4.set_title(\"my implementation accuracy\")\n",
        "ax4.legend()\n",
        "\n",
        "plt.show()"
      ],
      "metadata": {
        "id": "r7pQFgJtR-gd"
      },
      "execution_count": null,
      "outputs": []
    }
  ]
}