{
  "cells": [
    {
      "cell_type": "markdown",
      "metadata": {
        "id": "2w3tE03CJs5i"
      },
      "source": [
        "[![Open In Colab](https://colab.research.google.com/assets/colab-badge.svg)](https://colab.research.google.com/github/shhommychon/pytorch_semantic_segmentation/blob/main/_jupyternotebooks/ngrok_test_env.ipynb)"
      ]
    },
    {
      "cell_type": "markdown",
      "metadata": {
        "id": "lgY22ccAxI6K"
      },
      "source": [
        "# [ngrok](https://ngrok.com/) 세팅"
      ]
    },
    {
      "cell_type": "code",
      "execution_count": null,
      "metadata": {
        "id": "sCSz8jQhxGDY"
      },
      "outputs": [],
      "source": [
        "NGROK_TOKEN = \"hello_hommy\"\n",
        "PASSWORD = \"hello_hommy\""
      ]
    },
    {
      "cell_type": "code",
      "execution_count": null,
      "metadata": {
        "id": "nh31kjRhxW7V"
      },
      "outputs": [],
      "source": [
        "# from google.colab import drive\n",
        "# drive.mount('/content/drive/')"
      ]
    },
    {
      "cell_type": "code",
      "execution_count": null,
      "metadata": {
        "id": "4t0LAP36xjle"
      },
      "outputs": [],
      "source": [
        "# Install colab_ssh on google colab\n",
        "!pip install colab_ssh --upgrade\n",
        "\n",
        "from colab_ssh import launch_ssh\n",
        "launch_ssh(NGROK_TOKEN, PASSWORD)"
      ]
    },
    {
      "cell_type": "markdown",
      "metadata": {
        "id": "NR2XvCIQ1LL7"
      },
      "source": [
        "# 테스트 코드"
      ]
    },
    {
      "cell_type": "markdown",
      "metadata": {
        "id": "apuyhLy79ZW_"
      },
      "source": [
        "## 환경 설정"
      ]
    },
    {
      "cell_type": "code",
      "execution_count": null,
      "metadata": {
        "id": "YwuV2VaA1QLa"
      },
      "outputs": [],
      "source": [
        "!git clone https://github.com/shhommychon/pytorch_semantic_segmentation.git"
      ]
    },
    {
      "cell_type": "code",
      "execution_count": null,
      "metadata": {
        "id": "ngYTN_0kIzxJ"
      },
      "outputs": [],
      "source": [
        "import sys\r\n",
        "sys.path.append(\"/content/pytorch_semantic_segmentation\")\r\n",
        "import pytorch_semantic_segmentation.semantic_segmentation as myss"
      ]
    },
    {
      "cell_type": "code",
      "execution_count": null,
      "metadata": {
        "id": "3SWzVuF5gBJw"
      },
      "outputs": [],
      "source": [
        "import torch\n",
        "import torch.nn as nn\n",
        "import torch.optim as optim\n",
        "import torch.nn.functional as F\n",
        "\n",
        "print (f\"PyTorch version: {torch.__version__}\")"
      ]
    },
    {
      "cell_type": "code",
      "execution_count": null,
      "metadata": {
        "id": "KjQ0nKHK8jag"
      },
      "outputs": [],
      "source": [
        "print(f\"cuda available? : {torch.cuda.is_available()}\")\n",
        "_device_count = torch.cuda.device_count()\n",
        "print(f\"cuda device count? : {_device_count}\")\n",
        "print()\n",
        "\n",
        "device = torch.device(f\"cuda:{_device_count-1}\" if torch.cuda.is_available() else \"cpu\")\n",
        "print (f\"device: {device}\")"
      ]
    }
  ],
  "metadata": {
    "accelerator": "GPU",
    "colab": {
      "collapsed_sections": [],
      "name": "ngrok_test_env.ipynb",
      "private_outputs": true,
      "provenance": []
    },
    "interpreter": {
      "hash": "579b2a23398ba6d1dd2fc5977c9de110367169a6d3147e9ef13383460aab7f89"
    },
    "kernelspec": {
      "display_name": "Python 3.8.7 64-bit",
      "name": "python3"
    },
    "language_info": {
      "name": "python",
      "version": ""
    }
  },
  "nbformat": 4,
  "nbformat_minor": 0
}